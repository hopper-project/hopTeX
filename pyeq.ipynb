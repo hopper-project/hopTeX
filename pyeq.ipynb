{
 "cells": [
  {
   "cell_type": "markdown",
   "metadata": {},
   "source": [
    "proctex.py is a script designed to generate document and equation objects, which it then automatically exports to .pkl (document) and .json (document & equation) objects."
   ]
  },
  {
   "cell_type": "markdown",
   "metadata": {},
   "source": [
    "Here's a quick example of how the latexmlmath function works. We're just going to pass it the fraction:\n",
    "$\\frac{3}{4}$."
   ]
  },
  {
   "cell_type": "code",
   "execution_count": 21,
   "metadata": {
    "collapsed": false
   },
   "outputs": [
    {
     "name": "stdout",
     "output_type": "stream",
     "text": [
      "<?xml version=\"1.0\" encoding=\"UTF-8\"?>\n",
      "<math xmlns=\"http://www.w3.org/1998/Math/MathML\" alttext=\"\\frac{3}{4}\" display=\"block\">\n",
      "  <mfrac>\n",
      "    <mn>3</mn>\n",
      "    <mn>4</mn>\n",
      "  </mfrac>\n",
      "</math>\n",
      "\n"
     ]
    }
   ],
   "source": [
    "import subprocess\n",
    "from subprocess import PIPE\n",
    "proc = subprocess.Popen([\"latexmlmath\", \"--quiet\", \"-\"], stderr = PIPE, stdout = PIPE, stdin = PIPE)\n",
    "intext = \"\\\\frac{3}{4}\"\n",
    "stdout, stderr = proc.communicate(intext)\n",
    "print(stdout)"
   ]
  },
  {
   "cell_type": "markdown",
   "metadata": {},
   "source": [
    "latexmlmath can output both contentML and displayML, the latter of which has relatively substantial coverage. There is, however, a substantial downside to latexmlmath, as one can see by running 'time latexmlmath \"\\\\frac{3}{4}\"':"
   ]
  },
  {
   "cell_type": "markdown",
   "metadata": {},
   "source": [
    "<?xml version=\"1.0\" encoding=\"UTF-8\"?>\n",
    "<math xmlns=\"http://www.w3.org/1998/Math/MathML\" alttext=\"\\frac{3}{4}\" display=\"block\">\n",
    "  <mfrac>\n",
    "    <mn>3</mn>\n",
    "    <mn>4</mn>\n",
    "  </mfrac>\n",
    "</math>\n",
    "\n",
    "real\t0m0.632s\n",
    "user\t0m0.572s\n",
    "sys\t    0m0.048s"
   ]
  },
  {
   "cell_type": "markdown",
   "metadata": {},
   "source": [
    "It takes a whole 0.6 seconds for latexmlmath to parse in a single equation. Part of this is due to the overhead of the command initializing/loading in libraries each time it is called."
   ]
  },
  {
   "cell_type": "code",
   "execution_count": 29,
   "metadata": {
    "collapsed": false
   },
   "outputs": [
    {
     "name": "stdout",
     "output_type": "stream",
     "text": [
      "<?xml version=\"1.0\" encoding=\"utf-8\"?>\n",
      "<!DOCTYPE html PUBLIC \"-//W3C//DTD XHTML 1.1 plus MathML 2.0//EN\" \"http://www.w3.org/Math/DTD/mathml2/xhtml-math11-f.dtd\">\n",
      "<html xmlns=\"http://www.w3.org/1999/xhtml\">\n",
      "<head>\n",
      "<title>Untitled Document</title>\n",
      "<!--Generated on Thu Jul 28 10:54:18 2016 by LaTeXML (version 0.8.2) http://dlmf.nist.gov/LaTeXML/.-->\n",
      "\n",
      "<meta http-equiv=\"Content-Type\" content=\"application/xhtml+xml; charset=UTF-8\"/>\n",
      "<link rel=\"stylesheet\" href=\"/home/jay/hopper/hoptex/LaTeXML.css\" type=\"text/css\"/>\n",
      "</head>\n",
      "<body>\n",
      "<div class=\"ltx_page_main\">\n",
      "<div class=\"ltx_page_content\">\n",
      "<div class=\"ltx_document\">\n",
      "<div id=\"p1\" class=\"ltx_para\">\n",
      "<p class=\"ltx_p\"><math xmlns=\"http://www.w3.org/1998/Math/MathML\" id=\"p1.m1\" class=\"ltx_Math\" alttext=\"\\frac{3}{4}\" display=\"inline\"><mfrac><mn>3</mn><mn>4</mn></mfrac></math> <math xmlns=\"http://www.w3.org/1998/Math/MathML\" id=\"p1.m2\" class=\"ltx_Math\" alttext=\"\\frac{5}{6}\" display=\"inline\"><mfrac><mn>5</mn><mn>6</mn></mfrac></math> <math xmlns=\"http://www.w3.org/1998/Math/MathML\" id=\"p1.m3\" class=\"ltx_Math\" alttext=\"\\frac{7}{8}\" display=\"inline\"><mfrac><mn>7</mn><mn>8</mn></mfrac></math></p>\n",
      "</div>\n",
      "</div>\n",
      "</div>\n",
      "<div class=\"ltx_page_footer\">\n",
      "<div class=\"ltx_page_logo\">Generated  on Thu Jul 28 10:54:18 2016 by <a href=\"http://dlmf.nist.gov/LaTeXML/\">LaTeXML <img src=\"data:image/png;base64,iVBORw0KGgoAAAANSUhEUgAAAAsAAAAOCAYAAAD5YeaVAAAAAXNSR0IArs4c6QAAAAZiS0dEAP8A/wD/oL2nkwAAAAlwSFlzAAALEwAACxMBAJqcGAAAAAd0SU1FB9wKExQZLWTEaOUAAAAddEVYdENvbW1lbnQAQ3JlYXRlZCB3aXRoIFRoZSBHSU1Q72QlbgAAAdpJREFUKM9tkL+L2nAARz9fPZNCKFapUn8kyI0e4iRHSR1Kb8ng0lJw6FYHFwv2LwhOpcWxTjeUunYqOmqd6hEoRDhtDWdA8ApRYsSUCDHNt5ul13vz4w0vWCgUnnEc975arX6ORqN3VqtVZbfbTQC4uEHANM3jSqXymFI6yWazP2KxWAXAL9zCUa1Wy2tXVxheKA9YNoR8Pt+aTqe4FVVVvz05O6MBhqUIBGk8Hn8HAOVy+T+XLJfLS4ZhTiRJgqIoVBRFIoric47jPnmeB1mW/9rr9ZpSSn3Lsmir1fJZlqWlUonKsvwWwD8ymc/nXwVBeLjf7xEKhdBut9Hr9WgmkyGEkJwsy5eHG5vN5g0AKIoCAEgkEkin0wQAfN9/cXPdheu6P33fBwB4ngcAcByHJpPJl+fn54mD3Gg0NrquXxeLRQAAwzAYj8cwTZPwPH9/sVg8PXweDAauqqr2cDjEer1GJBLBZDJBs9mE4zjwfZ85lAGg2+06hmGgXq+j3+/DsixYlgVN03a9Xu8jgCNCyIegIAgx13Vfd7vdu+FweG8YRkjXdWy329+dTgeSJD3ieZ7RNO0VAXAPwDEAO5VKndi2fWrb9jWl9Esul6PZbDY9Go1OZ7PZ9z/lyuD3OozU2wAAAABJRU5ErkJggg==\" alt=\"[LOGO]\"/></a></div></div>\n",
      "</div>\n",
      "</body>\n",
      "</html>\n",
      "\n"
     ]
    }
   ],
   "source": [
    "intext = \"\\\\begin{document} $\\\\frac{3}{4}$ $\\\\frac{5}{6}$ $\\\\frac{7}{8}$ \\\\end{document}\"\n",
    "\n",
    "proc = subprocess.Popen([\"latexml\", \"--quiet\", \"-\"], stderr = PIPE, stdout = PIPE, stdin = PIPE)\n",
    "stdout, stderr = proc.communicate(intext)\n",
    "proc = subprocess.Popen([\"latexmlpost\", \"--pmml\", \"--format=xhtml\" , \"-\"], stderr = PIPE, stdout = PIPE, stdin = PIPE)\n",
    "stdout2, stderr = proc.communicate(stdout)\n",
    "print(stdout2)"
   ]
  }
 ],
 "metadata": {
  "kernelspec": {
   "display_name": "Python 2",
   "language": "python",
   "name": "python2"
  },
  "language_info": {
   "codemirror_mode": {
    "name": "ipython",
    "version": 2
   },
   "file_extension": ".py",
   "mimetype": "text/x-python",
   "name": "python",
   "nbconvert_exporter": "python",
   "pygments_lexer": "ipython2",
   "version": "2.7.6"
  }
 },
 "nbformat": 4,
 "nbformat_minor": 0
}
