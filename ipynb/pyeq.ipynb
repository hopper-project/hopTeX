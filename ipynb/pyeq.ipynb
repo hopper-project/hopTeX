{
 "cells": [
  {
   "cell_type": "markdown",
   "metadata": {},
   "source": [
    "# Object generation with proctex.py"
   ]
  },
  {
   "cell_type": "markdown",
   "metadata": {},
   "source": [
    "proctex.py is a script designed to generate document and equation objects, which it then automatically exports to .pkl (document) and .json (document & equation) objects."
   ]
  },
  {
   "cell_type": "markdown",
   "metadata": {},
   "source": [
    "Here's a quick example of how the latexmlmath function works, for something simple like the fraction:\n",
    "$\\frac{3}{4}$."
   ]
  },
  {
   "cell_type": "code",
   "execution_count": 32,
   "metadata": {
    "collapsed": false
   },
   "outputs": [
    {
     "name": "stdout",
     "output_type": "stream",
     "text": [
      "<?xml version=\"1.0\" encoding=\"UTF-8\"?>\n",
      "<math xmlns=\"http://www.w3.org/1998/Math/MathML\" alttext=\"\\frac{3}{4}\" display=\"block\">\n",
      "  <mfrac>\n",
      "    <mn>3</mn>\n",
      "    <mn>4</mn>\n",
      "  </mfrac>\n",
      "</math>\n",
      "\n"
     ]
    }
   ],
   "source": [
    "import subprocess\n",
    "from subprocess import PIPE\n",
    "proc = subprocess.Popen([\"latexmlmath\", \"--quiet\", \"-\"], stderr = PIPE, stdout = PIPE, stdin = PIPE)\n",
    "intext = \"\\\\frac{3}{4}\"\n",
    "stdout, stderr = proc.communicate(intext)\n",
    "print(stdout)"
   ]
  },
  {
   "cell_type": "markdown",
   "metadata": {},
   "source": [
    "latexmlmath can output both contentML and displayML. LateXML document currently describes contentML output as being under development."
   ]
  },
  {
   "cell_type": "markdown",
   "metadata": {},
   "source": [
    "### Classes"
   ]
  },
  {
   "cell_type": "markdown",
   "metadata": {},
   "source": [
    "The equation, document, and archive classes are all located in core/texclasses.py, and provide a navigable data structure that can be exported to both pickle (.pkl) and JSON (.json) file formats.\n",
    "\n",
    "Commented out code corresponds generation of equation metadata (e.g. text/word tokens occurring before and after the equation).\n",
    "\n",
    "The numerous try statements exist to address one of the issues with a non-standardized corpus of LaTeX documents - namely, that there are multiple encoding schemes, whereas the JSON library can only handle Unicode/UTF-8 text. Python 2's default functionality is to attempt to preserve the original text's encoding, which can then lead to UnicodeDecodeErrors.\n",
    "\n",
    "Due to the excessively large/non-parallelizable nature of interacting with entire archive class objects, the archive document type will likely be depreciated in favor of generation of objects purely on a per-document/per-equation basis."
   ]
  },
  {
   "cell_type": "code",
   "execution_count": 43,
   "metadata": {
    "collapsed": true
   },
   "outputs": [],
   "source": [
    "import subprocess\n",
    "from subprocess import PIPE\n",
    "from nltk.tokenize import word_tokenize\n",
    "import os\n",
    "class equation:\n",
    "    def __init__(self,eqtext,fname, desig = 'latex'):\n",
    "        self.text = eqtext\n",
    "        self.type = desig\n",
    "        self.itemtype = \"equation\"\n",
    "        # self.prevtext = \"\"\n",
    "        # self.nexttext = \"\"\n",
    "        # self.prevtexttoks = []\n",
    "        # self.nexttexttoks = []\n",
    "        self.file = fname\n",
    "        self.mathml = \"\"\n",
    "        proc = subprocess.Popen([\"latexmlmath\", \"--quiet\", \"-\"], stderr = PIPE, stdout = PIPE, stdin = PIPE)\n",
    "        try:\n",
    "            stdout, stderr = proc.communicate(self.text)\n",
    "        except:\n",
    "            print(\"{}: Text encoding error occurred. Encoding to utf-8...\".format(fname))\n",
    "            try:\n",
    "                stdout, stderr = proc.communicate(self.text.encode('utf-8'))\n",
    "                print(\"{}: Alternate encoding successful\".format(fname))\n",
    "            except:\n",
    "                print(\"{}: Encoding failed - MathML invalid\".format(fname))\n",
    "                selfmathml = \"\"\n",
    "                return\n",
    "        if proc.returncode !=0:\n",
    "            self.mathml = \"\"\n",
    "            print(\"{}: Encountered MathML equation error\".format(fname))\n",
    "        else:\n",
    "            stdout = stdout.strip()\n",
    "            self.mathml = stdout\n",
    "\n",
    "    def __str__(self):\n",
    "        return self.text\n",
    "\n",
    "    def __repr__(self):\n",
    "        return self.text\n",
    "\n",
    "    # def gentokens():\n",
    "    #     self.prevsenttoks = word_tokenize(self.prevsent)\n",
    "    #     self.nextsenttoks = word_tokenize(self.nextsent)\n",
    "\n",
    "    def tojson(self):\n",
    "        return self.__dict__\n",
    "\n",
    "class document:\n",
    "    def __init__(self, fname,textarray):\n",
    "        self.name = fname\n",
    "        self.array = textarray\n",
    "        self.itemtype = \"document\"\n",
    "        # arraylen = len(self.array)\n",
    "        # for i in range(1,arraylen-1):\n",
    "        #     if isinstance(self.array[i],equation):\n",
    "        #         print(\"Found an equation :D\")\n",
    "        #         for x in range(i-1,-1,-1):\n",
    "        #             if isinstance(self.array[x],str):\n",
    "        #                 self.array[i].prevtext = self.array[x]\n",
    "        #                 break\n",
    "        #         for x in range(i+1,arraylen,1):\n",
    "        #             if isinstance(self.array[x],str):\n",
    "        #                 self.array[i].nexttext = self.array[x]\n",
    "        #                 break\n",
    "        # self.array = self.get_equations()\n",
    "\n",
    "    def get_equations(self):\n",
    "        ret = []\n",
    "        for item in self.array:\n",
    "            if isinstance(item,equation):\n",
    "                ret.append(item)\n",
    "        return(ret)\n",
    "\n",
    "    def tojson(self):\n",
    "        return self.__dict__\n",
    "\n",
    "class archive:\n",
    "    def __init__(self,directory_name,dictionary):\n",
    "        self.dir = directory_name\n",
    "        self.docdict = dictionary\n",
    "    def save(self):\n",
    "        print(self.dir)\n",
    "        outfilepath = self.dir + \".pkl\"\n",
    "        if os.path.isfile(outfilepath):\n",
    "            outfile = open(outfilepath)\n",
    "        else:\n",
    "            outfile = open(outfilepath,'w+')\n",
    "        pickle.dump(self,outfile)\n",
    "        outfile.close()\n",
    "\n",
    "def JSONHandler(Obj):\n",
    "    if hasattr(Obj, 'tojson'):\n",
    "        return Obj.tojson()\n",
    "    else:\n",
    "        raise TypeError('Object is not JSON serializable')\n"
   ]
  },
  {
   "cell_type": "markdown",
   "metadata": {},
   "source": [
    "### Object Generation"
   ]
  },
  {
   "cell_type": "code",
   "execution_count": 62,
   "metadata": {
    "collapsed": false
   },
   "outputs": [],
   "source": [
    "import re\n",
    "from core.texclasses import *\n",
    "\n",
    "def strip(param):\n",
    "    return param.strip()\n",
    "\n",
    "\n",
    "filename = 'meetingexample.tex'\n",
    "f1 = open(filename, 'rt')\n",
    "text = f1.read()\n",
    "f1.close()\n",
    "newtext = text.decode('utf-8', 'ignore')\n",
    "#remove comments\n",
    "#remove all comments at beginning of lines\n",
    "newtext = re.sub(r'(?m)^%+.*$', '', newtext)\n",
    "#remove all remaining comments\n",
    "cdelim = \" CUSTOMDELIMITERHERE \"\n",
    "newtext = re.sub(r\"(?m)([^\\\\])\\%+.*?$\", r'\\1', newtext)\n",
    "newtext = re.sub(r'\\\\begin\\{comment\\}.*?\\\\end\\{comment\\}','',newtext,re.DOTALL)\n",
    "newtext = re.sub(r'(?s)\\\\begin\\{equation\\}(.*?)\\\\end\\{equation\\}',cdelim + r'\\1' + cdelim,newtext)\n",
    "newtext = re.sub(r'(?s)\\\\begin\\{multline\\}(.*?)\\\\end\\{multline\\}',cdelim + r'\\1' + cdelim,newtext)\n",
    "newtext = re.sub(r'(?s)\\\\begin\\{gather\\}(.*?)\\\\end\\{gather\\}',cdelim + r'\\1' + cdelim,newtext)\n",
    "newtext = re.sub(r'(?s)\\\\begin\\{align\\}(.*?)\\\\end\\{align\\}',cdelim + r'\\1' + cdelim,newtext)\n",
    "newtext = re.sub(r'(?s)\\\\begin\\{flalign\\*\\}(.*?)\\\\end\\{flalign\\*\\}',cdelim + r'\\1' + cdelim,newtext)\n",
    "newtext = re.sub(r'(?s)\\\\begin\\{math\\}(.*?)\\\\end\\{math\\}',cdelim + r'\\1' + cdelim,newtext)\n",
    "newtext = re.sub(r'(?s)[^\\\\]\\\\\\[(.*?)\\\\\\]',cdelim + r'\\1' + cdelim,newtext)\n",
    "newtext = re.sub(r'(?s)\\$\\$([^\\^].*?)\\$\\$',cdelim + r'\\1' + cdelim,newtext)\n",
    "dispeqs = re.findall(r'(?s)' + cdelim + r'(.*?)' + cdelim,newtext)\n",
    "dispeqs = map(strip,dispeqs)\n",
    "textlist = newtext.split(cdelim)\n",
    "textlist = map(strip,textlist)\n",
    "for i in range(len(textlist)):\n",
    "    if textlist[i] in dispeqs:\n",
    "        textlist[i] = equation(eqtext = textlist[i], fname = filename)\n",
    "newdoc = document(filename,textlist)\n",
    "eqlist = newdoc.get_equations()"
   ]
  },
  {
   "cell_type": "markdown",
   "metadata": {},
   "source": [
    "Some example equations, their LateXML, and their corresponding MathML output:\n",
    "<img src=\"img_0.png\">"
   ]
  },
  {
   "cell_type": "code",
   "execution_count": 66,
   "metadata": {
    "collapsed": false
   },
   "outputs": [
    {
     "name": "stdout",
     "output_type": "stream",
     "text": [
      "<?xml version=\"1.0\" encoding=\"UTF-8\"?>\n",
      "<math xmlns=\"http://www.w3.org/1998/Math/MathML\" alttext=\"\\int ax^{2}+bx+c=\\frac{3}{4}\" display=\"block\">\n",
      "  <mrow>\n",
      "    <mrow>\n",
      "      <mrow>\n",
      "        <mo largeop=\"true\" symmetric=\"true\">∫</mo>\n",
      "        <mrow>\n",
      "          <mi>a</mi>\n",
      "          <mo>⁢</mo>\n",
      "          <msup>\n",
      "            <mi>x</mi>\n",
      "            <mn>2</mn>\n",
      "          </msup>\n",
      "        </mrow>\n",
      "      </mrow>\n",
      "      <mo>+</mo>\n",
      "      <mrow>\n",
      "        <mi>b</mi>\n",
      "        <mo>⁢</mo>\n",
      "        <mi>x</mi>\n",
      "      </mrow>\n",
      "      <mo>+</mo>\n",
      "      <mi>c</mi>\n",
      "    </mrow>\n",
      "    <mo>=</mo>\n",
      "    <mfrac>\n",
      "      <mn>3</mn>\n",
      "      <mn>4</mn>\n",
      "    </mfrac>\n",
      "  </mrow>\n",
      "</math>\n"
     ]
    }
   ],
   "source": [
    "print eqlist[0].mathml"
   ]
  },
  {
   "cell_type": "markdown",
   "metadata": {},
   "source": [
    "And here's an example of the JSON for just this equation:"
   ]
  },
  {
   "cell_type": "code",
   "execution_count": 75,
   "metadata": {
    "collapsed": false
   },
   "outputs": [
    {
     "name": "stdout",
     "output_type": "stream",
     "text": [
      "{'text': u'\\\\int ax^{2}+bx+c= \\\\frac{3}{4}', 'mathml': '<?xml version=\"1.0\" encoding=\"UTF-8\"?>\\n<math xmlns=\"http://www.w3.org/1998/Math/MathML\" alttext=\"\\\\int ax^{2}+bx+c=\\\\frac{3}{4}\" display=\"block\">\\n  <mrow>\\n    <mrow>\\n      <mrow>\\n        <mo largeop=\"true\" symmetric=\"true\">\\xe2\\x88\\xab</mo>\\n        <mrow>\\n          <mi>a</mi>\\n          <mo>\\xe2\\x81\\xa2</mo>\\n          <msup>\\n            <mi>x</mi>\\n            <mn>2</mn>\\n          </msup>\\n        </mrow>\\n      </mrow>\\n      <mo>+</mo>\\n      <mrow>\\n        <mi>b</mi>\\n        <mo>\\xe2\\x81\\xa2</mo>\\n        <mi>x</mi>\\n      </mrow>\\n      <mo>+</mo>\\n      <mi>c</mi>\\n    </mrow>\\n    <mo>=</mo>\\n    <mfrac>\\n      <mn>3</mn>\\n      <mn>4</mn>\\n    </mfrac>\\n  </mrow>\\n</math>', 'type': 'latex', 'itemtype': 'equation', 'file': 'meetingexample.tex'}\n"
     ]
    }
   ],
   "source": [
    "print eqlist[0].tojson()"
   ]
  },
  {
   "cell_type": "markdown",
   "metadata": {},
   "source": [
    "<img src=\"img_1.png\">"
   ]
  },
  {
   "cell_type": "code",
   "execution_count": 67,
   "metadata": {
    "collapsed": false
   },
   "outputs": [
    {
     "name": "stdout",
     "output_type": "stream",
     "text": [
      "<?xml version=\"1.0\" encoding=\"UTF-8\"?>\n",
      "<math xmlns=\"http://www.w3.org/1998/Math/MathML\" alttext=\"P_{f}(f)=\\frac{(N-1)}{2}\\frac{\\chi_{\\circ}^{2}-\\chi_{m}^{2}(f)}{\\chi_{\\circ}^{%&#10;2}}\" display=\"block\">\n",
      "  <mrow>\n",
      "    <mrow>\n",
      "      <msub>\n",
      "        <mi>P</mi>\n",
      "        <mi>f</mi>\n",
      "      </msub>\n",
      "      <mo>⁢</mo>\n",
      "      <mrow>\n",
      "        <mo stretchy=\"false\">(</mo>\n",
      "        <mi>f</mi>\n",
      "        <mo stretchy=\"false\">)</mo>\n",
      "      </mrow>\n",
      "    </mrow>\n",
      "    <mo>=</mo>\n",
      "    <mrow>\n",
      "      <mfrac>\n",
      "        <mrow>\n",
      "          <mo stretchy=\"false\">(</mo>\n",
      "          <mrow>\n",
      "            <mi>N</mi>\n",
      "            <mo>-</mo>\n",
      "            <mn>1</mn>\n",
      "          </mrow>\n",
      "          <mo stretchy=\"false\">)</mo>\n",
      "        </mrow>\n",
      "        <mn>2</mn>\n",
      "      </mfrac>\n",
      "      <mo>⁢</mo>\n",
      "      <mfrac>\n",
      "        <mrow>\n",
      "          <msubsup>\n",
      "            <mi>χ</mi>\n",
      "            <mo>∘</mo>\n",
      "            <mn>2</mn>\n",
      "          </msubsup>\n",
      "          <mo>-</mo>\n",
      "          <mrow>\n",
      "            <msubsup>\n",
      "              <mi>χ</mi>\n",
      "              <mi>m</mi>\n",
      "              <mn>2</mn>\n",
      "            </msubsup>\n",
      "            <mo>⁢</mo>\n",
      "            <mrow>\n",
      "              <mo stretchy=\"false\">(</mo>\n",
      "              <mi>f</mi>\n",
      "              <mo stretchy=\"false\">)</mo>\n",
      "            </mrow>\n",
      "          </mrow>\n",
      "        </mrow>\n",
      "        <msubsup>\n",
      "          <mi>χ</mi>\n",
      "          <mo>∘</mo>\n",
      "          <mn>2</mn>\n",
      "        </msubsup>\n",
      "      </mfrac>\n",
      "    </mrow>\n",
      "  </mrow>\n",
      "</math>\n"
     ]
    }
   ],
   "source": [
    "print eqlist[1].mathml"
   ]
  },
  {
   "cell_type": "markdown",
   "metadata": {},
   "source": [
    "<img src=\"img_2.png\">"
   ]
  },
  {
   "cell_type": "code",
   "execution_count": 68,
   "metadata": {
    "collapsed": false
   },
   "outputs": [
    {
     "name": "stdout",
     "output_type": "stream",
     "text": [
      "<?xml version=\"1.0\" encoding=\"UTF-8\"?>\n",
      "<math xmlns=\"http://www.w3.org/1998/Math/MathML\" alttext=\"\\hbox{MC}(F,S):=\\frac{1}{N}\\sum_{i=1}^{N}F(s_{i}).\" display=\"block\">\n",
      "  <mrow>\n",
      "    <mrow>\n",
      "      <mrow>\n",
      "        <mtext>MC</mtext>\n",
      "        <mo>⁢</mo>\n",
      "        <mrow>\n",
      "          <mo stretchy=\"false\">(</mo>\n",
      "          <mi>F</mi>\n",
      "          <mo>,</mo>\n",
      "          <mi>S</mi>\n",
      "          <mo stretchy=\"false\">)</mo>\n",
      "        </mrow>\n",
      "      </mrow>\n",
      "      <mo>:=</mo>\n",
      "      <mrow>\n",
      "        <mfrac>\n",
      "          <mn>1</mn>\n",
      "          <mi>N</mi>\n",
      "        </mfrac>\n",
      "        <mo>⁢</mo>\n",
      "        <mrow>\n",
      "          <munderover>\n",
      "            <mo largeop=\"true\" movablelimits=\"false\" symmetric=\"true\">∑</mo>\n",
      "            <mrow>\n",
      "              <mi>i</mi>\n",
      "              <mo>=</mo>\n",
      "              <mn>1</mn>\n",
      "            </mrow>\n",
      "            <mi>N</mi>\n",
      "          </munderover>\n",
      "          <mrow>\n",
      "            <mi>F</mi>\n",
      "            <mo>⁢</mo>\n",
      "            <mrow>\n",
      "              <mo stretchy=\"false\">(</mo>\n",
      "              <msub>\n",
      "                <mi>s</mi>\n",
      "                <mi>i</mi>\n",
      "              </msub>\n",
      "              <mo stretchy=\"false\">)</mo>\n",
      "            </mrow>\n",
      "          </mrow>\n",
      "        </mrow>\n",
      "      </mrow>\n",
      "    </mrow>\n",
      "    <mo>.</mo>\n",
      "  </mrow>\n",
      "</math>\n"
     ]
    }
   ],
   "source": [
    "print eqlist[2].mathml"
   ]
  },
  {
   "cell_type": "markdown",
   "metadata": {},
   "source": [
    "<img src=\"img_3.png\">"
   ]
  },
  {
   "cell_type": "code",
   "execution_count": 69,
   "metadata": {
    "collapsed": false,
    "scrolled": false
   },
   "outputs": [
    {
     "name": "stdout",
     "output_type": "stream",
     "text": [
      "<?xml version=\"1.0\" encoding=\"UTF-8\"?>\n",
      "<math xmlns=\"http://www.w3.org/1998/Math/MathML\" alttext=\"S(x)\\equiv\\frac{1}{N}\\sum_{i=1}^{N}\\delta_{s_{i}}(x)\" display=\"block\">\n",
      "  <mrow>\n",
      "    <mrow>\n",
      "      <mi>S</mi>\n",
      "      <mo>⁢</mo>\n",
      "      <mrow>\n",
      "        <mo stretchy=\"false\">(</mo>\n",
      "        <mi>x</mi>\n",
      "        <mo stretchy=\"false\">)</mo>\n",
      "      </mrow>\n",
      "    </mrow>\n",
      "    <mo>≡</mo>\n",
      "    <mrow>\n",
      "      <mfrac>\n",
      "        <mn>1</mn>\n",
      "        <mi>N</mi>\n",
      "      </mfrac>\n",
      "      <mo>⁢</mo>\n",
      "      <mrow>\n",
      "        <munderover>\n",
      "          <mo largeop=\"true\" movablelimits=\"false\" symmetric=\"true\">∑</mo>\n",
      "          <mrow>\n",
      "            <mi>i</mi>\n",
      "            <mo>=</mo>\n",
      "            <mn>1</mn>\n",
      "          </mrow>\n",
      "          <mi>N</mi>\n",
      "        </munderover>\n",
      "        <mrow>\n",
      "          <msub>\n",
      "            <mi>δ</mi>\n",
      "            <msub>\n",
      "              <mi>s</mi>\n",
      "              <mi>i</mi>\n",
      "            </msub>\n",
      "          </msub>\n",
      "          <mo>⁢</mo>\n",
      "          <mrow>\n",
      "            <mo stretchy=\"false\">(</mo>\n",
      "            <mi>x</mi>\n",
      "            <mo stretchy=\"false\">)</mo>\n",
      "          </mrow>\n",
      "        </mrow>\n",
      "      </mrow>\n",
      "    </mrow>\n",
      "  </mrow>\n",
      "</math>\n"
     ]
    }
   ],
   "source": [
    "print eqlist[3].mathml"
   ]
  },
  {
   "cell_type": "markdown",
   "metadata": {},
   "source": [
    "<img src=\"img_4.png\">"
   ]
  },
  {
   "cell_type": "code",
   "execution_count": 71,
   "metadata": {
    "collapsed": false,
    "scrolled": false
   },
   "outputs": [
    {
     "name": "stdout",
     "output_type": "stream",
     "text": [
      "<?xml version=\"1.0\" encoding=\"UTF-8\"?>\n",
      "<math xmlns=\"http://www.w3.org/1998/Math/MathML\" alttext=\"\\rho({\\gamma}\\circ\\tilde{{\\gamma}})=\\rho({\\gamma})\\circ\\rho(\\tilde{{\\gamma}}),%&#10;\\qquad\\forall\\ {\\gamma},\\tilde{{\\gamma}}\\in{\\Gamma}\" display=\"block\">\n",
      "  <mrow>\n",
      "    <mrow>\n",
      "      <mrow>\n",
      "        <mi>ρ</mi>\n",
      "        <mo>⁢</mo>\n",
      "        <mrow>\n",
      "          <mo stretchy=\"false\">(</mo>\n",
      "          <mrow>\n",
      "            <mi>γ</mi>\n",
      "            <mo>∘</mo>\n",
      "            <mover accent=\"true\">\n",
      "              <mi>γ</mi>\n",
      "              <mo stretchy=\"false\">~</mo>\n",
      "            </mover>\n",
      "          </mrow>\n",
      "          <mo stretchy=\"false\">)</mo>\n",
      "        </mrow>\n",
      "      </mrow>\n",
      "      <mo>=</mo>\n",
      "      <mrow>\n",
      "        <mrow>\n",
      "          <mrow>\n",
      "            <mrow>\n",
      "              <mi>ρ</mi>\n",
      "              <mo>⁢</mo>\n",
      "              <mrow>\n",
      "                <mo stretchy=\"false\">(</mo>\n",
      "                <mi>γ</mi>\n",
      "                <mo stretchy=\"false\">)</mo>\n",
      "              </mrow>\n",
      "            </mrow>\n",
      "            <mo>∘</mo>\n",
      "            <mi>ρ</mi>\n",
      "          </mrow>\n",
      "          <mo>⁢</mo>\n",
      "          <mrow>\n",
      "            <mo stretchy=\"false\">(</mo>\n",
      "            <mover accent=\"true\">\n",
      "              <mi>γ</mi>\n",
      "              <mo stretchy=\"false\">~</mo>\n",
      "            </mover>\n",
      "            <mo stretchy=\"false\">)</mo>\n",
      "          </mrow>\n",
      "        </mrow>\n",
      "        <mo rspace=\"22.5pt\">,</mo>\n",
      "        <mrow>\n",
      "          <mo rspace=\"7.5pt\">∀</mo>\n",
      "          <mi>γ</mi>\n",
      "        </mrow>\n",
      "      </mrow>\n",
      "    </mrow>\n",
      "    <mo>,</mo>\n",
      "    <mrow>\n",
      "      <mover accent=\"true\">\n",
      "        <mi>γ</mi>\n",
      "        <mo stretchy=\"false\">~</mo>\n",
      "      </mover>\n",
      "      <mo>∈</mo>\n",
      "      <mi mathvariant=\"normal\">Γ</mi>\n",
      "    </mrow>\n",
      "  </mrow>\n",
      "</math>\n"
     ]
    }
   ],
   "source": [
    "print eqlist[4].mathml"
   ]
  },
  {
   "cell_type": "markdown",
   "metadata": {},
   "source": [
    "<img src=\"img_5.png\">"
   ]
  },
  {
   "cell_type": "code",
   "execution_count": 72,
   "metadata": {
    "collapsed": false,
    "scrolled": false
   },
   "outputs": [
    {
     "name": "stdout",
     "output_type": "stream",
     "text": [
      "<?xml version=\"1.0\" encoding=\"UTF-8\"?>\n",
      "<math xmlns=\"http://www.w3.org/1998/Math/MathML\" alttext=\"\\int_{\\Gamma}\\widehat{{\\gamma}(v)}^{i}\\cdot\\overline{\\widehat{{\\gamma}(v)}^{j}%&#10;}=\\frac{|{\\Gamma}|}{\\hbox{dim}(V)}\\cdot\\|v\\|^{2}\\cdot\\delta_{ij}.\" display=\"block\">\n",
      "  <mrow>\n",
      "    <mrow>\n",
      "      <mrow>\n",
      "        <msub>\n",
      "          <mo largeop=\"true\" symmetric=\"true\">∫</mo>\n",
      "          <mi mathvariant=\"normal\">Γ</mi>\n",
      "        </msub>\n",
      "        <mrow>\n",
      "          <msup>\n",
      "            <mover accent=\"true\">\n",
      "              <mrow>\n",
      "                <mi>γ</mi>\n",
      "                <mo>⁢</mo>\n",
      "                <mrow>\n",
      "                  <mo stretchy=\"false\">(</mo>\n",
      "                  <mi>v</mi>\n",
      "                  <mo stretchy=\"false\">)</mo>\n",
      "                </mrow>\n",
      "              </mrow>\n",
      "              <mo>^</mo>\n",
      "            </mover>\n",
      "            <mi>i</mi>\n",
      "          </msup>\n",
      "          <mo>⋅</mo>\n",
      "          <mover accent=\"true\">\n",
      "            <msup>\n",
      "              <mover accent=\"true\">\n",
      "                <mrow>\n",
      "                  <mi>γ</mi>\n",
      "                  <mo>⁢</mo>\n",
      "                  <mrow>\n",
      "                    <mo stretchy=\"false\">(</mo>\n",
      "                    <mi>v</mi>\n",
      "                    <mo stretchy=\"false\">)</mo>\n",
      "                  </mrow>\n",
      "                </mrow>\n",
      "                <mo>^</mo>\n",
      "              </mover>\n",
      "              <mi>j</mi>\n",
      "            </msup>\n",
      "            <mo>¯</mo>\n",
      "          </mover>\n",
      "        </mrow>\n",
      "      </mrow>\n",
      "      <mo>=</mo>\n",
      "      <mrow>\n",
      "        <mfrac>\n",
      "          <mrow>\n",
      "            <mo stretchy=\"false\">|</mo>\n",
      "            <mi mathvariant=\"normal\">Γ</mi>\n",
      "            <mo stretchy=\"false\">|</mo>\n",
      "          </mrow>\n",
      "          <mrow>\n",
      "            <mtext>dim</mtext>\n",
      "            <mo>⁢</mo>\n",
      "            <mrow>\n",
      "              <mo stretchy=\"false\">(</mo>\n",
      "              <mi>V</mi>\n",
      "              <mo stretchy=\"false\">)</mo>\n",
      "            </mrow>\n",
      "          </mrow>\n",
      "        </mfrac>\n",
      "        <mo>⋅</mo>\n",
      "        <msup>\n",
      "          <mrow>\n",
      "            <mo>∥</mo>\n",
      "            <mi>v</mi>\n",
      "            <mo>∥</mo>\n",
      "          </mrow>\n",
      "          <mn>2</mn>\n",
      "        </msup>\n",
      "        <mo>⋅</mo>\n",
      "        <msub>\n",
      "          <mi>δ</mi>\n",
      "          <mrow>\n",
      "            <mi>i</mi>\n",
      "            <mo>⁢</mo>\n",
      "            <mi>j</mi>\n",
      "          </mrow>\n",
      "        </msub>\n",
      "      </mrow>\n",
      "    </mrow>\n",
      "    <mo>.</mo>\n",
      "  </mrow>\n",
      "</math>\n"
     ]
    }
   ],
   "source": [
    "print eqlist[5].mathml"
   ]
  },
  {
   "cell_type": "markdown",
   "metadata": {},
   "source": [
    "## Performance / alternatives"
   ]
  },
  {
   "cell_type": "markdown",
   "metadata": {},
   "source": [
    "With full JSON and cPickle serialization, proctex.py took 201m47.248s (3h21m47.248s) to complete processing of 8,312 documents.\n",
    "\n",
    "Without generating latexmlmath for each equation, however, the script took 17 seconds to run over all 8,312 documents (generating only JSON files).\n",
    "\n",
    "latexmlmath is, by far, the slowest part of this process. Indeed, on the [documentation page](http://dlmf.nist.gov/LaTeXML/manual/commands/latexmlmath.html), Bruce Miller notes:\n",
    "\n",
    "*\"This program runs much slower than would seem justified. This is a result of the relatively slow initialization including loading TeX and LaTeX macros and the schema. Normally, this cost would be ammortized over large documents, whereas, in this case, we’re processing a single math expression.\"*\n",
    "\n",
    "Timing latexmath on one of our earlier examples ($\\frac{3}{4}$):"
   ]
  },
  {
   "cell_type": "markdown",
   "metadata": {},
   "source": [
    "```\n",
    "<?xml version=\"1.0\" encoding=\"UTF-8\"?>\n",
    "<math xmlns=\"http://www.w3.org/1998/Math/MathML\" alttext=\"\\frac{3}{4}\" display=\"block\">\n",
    "  <mfrac>\n",
    "    <mn>3</mn>\n",
    "    <mn>4</mn>\n",
    "  </mfrac>\n",
    "</math>\n",
    "real\t0m0.632s\n",
    "user\t0m0.572s\n",
    "sys     0m0.048s\n",
    "```"
   ]
  },
  {
   "cell_type": "markdown",
   "metadata": {},
   "source": [
    "It takes a whole 0.63 seconds for latexmlmath to parse in a single equation. As Miller notes, this is partiallydue to the overhead of the command initializing/loading in libraries each time it is called."
   ]
  },
  {
   "cell_type": "code",
   "execution_count": 74,
   "metadata": {
    "collapsed": false
   },
   "outputs": [
    {
     "name": "stdout",
     "output_type": "stream",
     "text": [
      "<?xml version=\"1.0\" encoding=\"utf-8\"?>\n",
      "<!DOCTYPE html PUBLIC \"-//W3C//DTD XHTML 1.1 plus MathML 2.0//EN\" \"http://www.w3.org/Math/DTD/mathml2/xhtml-math11-f.dtd\">\n",
      "<html xmlns=\"http://www.w3.org/1999/xhtml\">\n",
      "<head>\n",
      "<title>Untitled Document</title>\n",
      "<!--Generated on Thu Jul 28 14:40:42 2016 by LaTeXML (version 0.8.2) http://dlmf.nist.gov/LaTeXML/.-->\n",
      "\n",
      "<meta http-equiv=\"Content-Type\" content=\"application/xhtml+xml; charset=UTF-8\"/>\n",
      "<link rel=\"stylesheet\" href=\"/home/jay/hopper/hoptex/LaTeXML.css\" type=\"text/css\"/>\n",
      "</head>\n",
      "<body>\n",
      "<div class=\"ltx_page_main\">\n",
      "<div class=\"ltx_page_content\">\n",
      "<div class=\"ltx_document\">\n",
      "<div id=\"p1\" class=\"ltx_para\">\n",
      "<p class=\"ltx_p\"><math xmlns=\"http://www.w3.org/1998/Math/MathML\" id=\"p1.m1\" class=\"ltx_Math\" alttext=\"\\frac{3}{4}\" display=\"inline\"><mfrac><mn>3</mn><mn>4</mn></mfrac></math> <math xmlns=\"http://www.w3.org/1998/Math/MathML\" id=\"p1.m2\" class=\"ltx_Math\" alttext=\"\\frac{5}{6}\" display=\"inline\"><mfrac><mn>5</mn><mn>6</mn></mfrac></math> <math xmlns=\"http://www.w3.org/1998/Math/MathML\" id=\"p1.m3\" class=\"ltx_Math\" alttext=\"\\frac{7}{8}\" display=\"inline\"><mfrac><mn>7</mn><mn>8</mn></mfrac></math></p>\n",
      "</div>\n",
      "</div>\n",
      "</div>\n",
      "<div class=\"ltx_page_footer\">\n",
      "<div class=\"ltx_page_logo\">Generated  on Thu Jul 28 14:40:42 2016 by <a href=\"http://dlmf.nist.gov/LaTeXML/\">LaTeXML <img src=\"data:image/png;base64,iVBORw0KGgoAAAANSUhEUgAAAAsAAAAOCAYAAAD5YeaVAAAAAXNSR0IArs4c6QAAAAZiS0dEAP8A/wD/oL2nkwAAAAlwSFlzAAALEwAACxMBAJqcGAAAAAd0SU1FB9wKExQZLWTEaOUAAAAddEVYdENvbW1lbnQAQ3JlYXRlZCB3aXRoIFRoZSBHSU1Q72QlbgAAAdpJREFUKM9tkL+L2nAARz9fPZNCKFapUn8kyI0e4iRHSR1Kb8ng0lJw6FYHFwv2LwhOpcWxTjeUunYqOmqd6hEoRDhtDWdA8ApRYsSUCDHNt5ul13vz4w0vWCgUnnEc975arX6ORqN3VqtVZbfbTQC4uEHANM3jSqXymFI6yWazP2KxWAXAL9zCUa1Wy2tXVxheKA9YNoR8Pt+aTqe4FVVVvz05O6MBhqUIBGk8Hn8HAOVy+T+XLJfLS4ZhTiRJgqIoVBRFIoric47jPnmeB1mW/9rr9ZpSSn3Lsmir1fJZlqWlUonKsvwWwD8ymc/nXwVBeLjf7xEKhdBut9Hr9WgmkyGEkJwsy5eHG5vN5g0AKIoCAEgkEkin0wQAfN9/cXPdheu6P33fBwB4ngcAcByHJpPJl+fn54mD3Gg0NrquXxeLRQAAwzAYj8cwTZPwPH9/sVg8PXweDAauqqr2cDjEer1GJBLBZDJBs9mE4zjwfZ85lAGg2+06hmGgXq+j3+/DsixYlgVN03a9Xu8jgCNCyIegIAgx13Vfd7vdu+FweG8YRkjXdWy329+dTgeSJD3ieZ7RNO0VAXAPwDEAO5VKndi2fWrb9jWl9Esul6PZbDY9Go1OZ7PZ9z/lyuD3OozU2wAAAABJRU5ErkJggg==\" alt=\"[LOGO]\"/></a></div></div>\n",
      "</div>\n",
      "</body>\n",
      "</html>\n",
      "\n"
     ]
    }
   ],
   "source": [
    "intext = \"\\\\begin{document} $\\\\frac{3}{4}$ $\\\\frac{5}{6}$ $\\\\frac{7}{8}$ \\\\end{document}\"\n",
    "\n",
    "proc = subprocess.Popen([\"latexml\", \"--quiet\", \"-\"], stderr = PIPE, stdout = PIPE, stdin = PIPE)\n",
    "stdout, stderr = proc.communicate(intext)\n",
    "proc = subprocess.Popen([\"latexmlpost\", \"--pmml\", \"--format=xhtml\" , \"-\"], stderr = PIPE, stdout = PIPE, stdin = PIPE)\n",
    "stdout2, stderr = proc.communicate(stdout)\n",
    "print(stdout2)"
   ]
  },
  {
   "cell_type": "markdown",
   "metadata": {},
   "source": [
    "Note that, within the results of *latexmlpost*, we have presentation MathML with the exact same formatting as the results we received from latexmlmath. One potential fix to the performance problems would be to:\n",
    "* Per document, construct a latex body of only display mode equations from said document\n",
    "* Run the temporary document through the latexml/latexmlpost pipeline\n",
    "* If it encounters errors, try to handle it with latexmlmath\n",
    "* Otherwise, parse in the equations from the document XHTML output (the equations should be in the same order in the temporary file as they were in the main file)."
   ]
  }
 ],
 "metadata": {
  "kernelspec": {
   "display_name": "Python 2",
   "language": "python",
   "name": "python2"
  },
  "language_info": {
   "codemirror_mode": {
    "name": "ipython",
    "version": 2
   },
   "file_extension": ".py",
   "mimetype": "text/x-python",
   "name": "python",
   "nbconvert_exporter": "python",
   "pygments_lexer": "ipython2",
   "version": "2.7.6"
  }
 },
 "nbformat": 4,
 "nbformat_minor": 0
}
